{
 "cells": [
  {
   "cell_type": "code",
   "execution_count": 2,
   "id": "99a56d83",
   "metadata": {},
   "outputs": [],
   "source": [
    "class Account:\n",
    "    def __init__(self, acc_holder):\n",
    "        self.balance = 0\n",
    "        self.holder = acc_holder"
   ]
  },
  {
   "cell_type": "code",
   "execution_count": 3,
   "id": "8b4fead7",
   "metadata": {},
   "outputs": [],
   "source": [
    "a = Account('Dai Penghui')"
   ]
  },
  {
   "cell_type": "code",
   "execution_count": 4,
   "id": "0230126a",
   "metadata": {},
   "outputs": [],
   "source": [
    "c = Account('New')\n",
    "c.balance = 100"
   ]
  },
  {
   "cell_type": "code",
   "execution_count": 5,
   "id": "71031a2a",
   "metadata": {},
   "outputs": [],
   "source": [
    "c = a"
   ]
  },
  {
   "cell_type": "code",
   "execution_count": 6,
   "id": "9d73a0aa",
   "metadata": {
    "scrolled": true
   },
   "outputs": [
    {
     "data": {
      "text/plain": [
       "0"
      ]
     },
     "execution_count": 6,
     "metadata": {},
     "output_type": "execute_result"
    }
   ],
   "source": [
    "c.balance"
   ]
  },
  {
   "cell_type": "code",
   "execution_count": 7,
   "id": "6e1ca354",
   "metadata": {},
   "outputs": [
    {
     "data": {
      "text/plain": [
       "True"
      ]
     },
     "execution_count": 7,
     "metadata": {},
     "output_type": "execute_result"
    }
   ],
   "source": [
    "c is a"
   ]
  },
  {
   "cell_type": "code",
   "execution_count": null,
   "id": "0982be33",
   "metadata": {},
   "outputs": [],
   "source": []
  }
 ],
 "metadata": {
  "kernelspec": {
   "display_name": "Python 3 (ipykernel)",
   "language": "python",
   "name": "python3"
  },
  "language_info": {
   "codemirror_mode": {
    "name": "ipython",
    "version": 3
   },
   "file_extension": ".py",
   "mimetype": "text/x-python",
   "name": "python",
   "nbconvert_exporter": "python",
   "pygments_lexer": "ipython3",
   "version": "3.11.5"
  }
 },
 "nbformat": 4,
 "nbformat_minor": 5
}
